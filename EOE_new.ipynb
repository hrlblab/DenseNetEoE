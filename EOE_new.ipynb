{
  "nbformat": 4,
  "nbformat_minor": 0,
  "metadata": {
    "colab": {
      "provenance": [],
      "collapsed_sections": []
    },
    "kernelspec": {
      "name": "python3",
      "display_name": "Python 3"
    },
    "language_info": {
      "name": "python"
    },
    "accelerator": "GPU",
    "gpuClass": "standard",
    "widgets": {
      "application/vnd.jupyter.widget-state+json": {
        "5f7f1f0dc2634caa9e1055c1cb337626": {
          "model_module": "@jupyter-widgets/controls",
          "model_name": "HBoxModel",
          "model_module_version": "1.5.0",
          "state": {
            "_dom_classes": [],
            "_model_module": "@jupyter-widgets/controls",
            "_model_module_version": "1.5.0",
            "_model_name": "HBoxModel",
            "_view_count": null,
            "_view_module": "@jupyter-widgets/controls",
            "_view_module_version": "1.5.0",
            "_view_name": "HBoxView",
            "box_style": "",
            "children": [
              "IPY_MODEL_95e9fde91902417392cc49741271f391",
              "IPY_MODEL_56df521696f94671a18170748331cafb",
              "IPY_MODEL_ff7acd414ed548e88d02854d33ef89d8"
            ],
            "layout": "IPY_MODEL_c1da73a3a74b40cb8ae8e6c655a7f461"
          }
        },
        "95e9fde91902417392cc49741271f391": {
          "model_module": "@jupyter-widgets/controls",
          "model_name": "HTMLModel",
          "model_module_version": "1.5.0",
          "state": {
            "_dom_classes": [],
            "_model_module": "@jupyter-widgets/controls",
            "_model_module_version": "1.5.0",
            "_model_name": "HTMLModel",
            "_view_count": null,
            "_view_module": "@jupyter-widgets/controls",
            "_view_module_version": "1.5.0",
            "_view_name": "HTMLView",
            "description": "",
            "description_tooltip": null,
            "layout": "IPY_MODEL_98e4d5b3c5d446a0a2212059a8bde828",
            "placeholder": "​",
            "style": "IPY_MODEL_6bad7f2d102c4558ad3a387379993434",
            "value": "100%"
          }
        },
        "56df521696f94671a18170748331cafb": {
          "model_module": "@jupyter-widgets/controls",
          "model_name": "FloatProgressModel",
          "model_module_version": "1.5.0",
          "state": {
            "_dom_classes": [],
            "_model_module": "@jupyter-widgets/controls",
            "_model_module_version": "1.5.0",
            "_model_name": "FloatProgressModel",
            "_view_count": null,
            "_view_module": "@jupyter-widgets/controls",
            "_view_module_version": "1.5.0",
            "_view_name": "ProgressView",
            "bar_style": "success",
            "description": "",
            "description_tooltip": null,
            "layout": "IPY_MODEL_86e27b1f820f4d3787f3ad7212817ca8",
            "max": 32342954,
            "min": 0,
            "orientation": "horizontal",
            "style": "IPY_MODEL_078d280355624c9f8f1334ae6dbc7f8b",
            "value": 32342954
          }
        },
        "ff7acd414ed548e88d02854d33ef89d8": {
          "model_module": "@jupyter-widgets/controls",
          "model_name": "HTMLModel",
          "model_module_version": "1.5.0",
          "state": {
            "_dom_classes": [],
            "_model_module": "@jupyter-widgets/controls",
            "_model_module_version": "1.5.0",
            "_model_name": "HTMLModel",
            "_view_count": null,
            "_view_module": "@jupyter-widgets/controls",
            "_view_module_version": "1.5.0",
            "_view_name": "HTMLView",
            "description": "",
            "description_tooltip": null,
            "layout": "IPY_MODEL_b76797985e4d42ae98de4e620e0996ff",
            "placeholder": "​",
            "style": "IPY_MODEL_25b111be1a4443618704b0157c997170",
            "value": " 30.8M/30.8M [00:00&lt;00:00, 79.1MB/s]"
          }
        },
        "c1da73a3a74b40cb8ae8e6c655a7f461": {
          "model_module": "@jupyter-widgets/base",
          "model_name": "LayoutModel",
          "model_module_version": "1.2.0",
          "state": {
            "_model_module": "@jupyter-widgets/base",
            "_model_module_version": "1.2.0",
            "_model_name": "LayoutModel",
            "_view_count": null,
            "_view_module": "@jupyter-widgets/base",
            "_view_module_version": "1.2.0",
            "_view_name": "LayoutView",
            "align_content": null,
            "align_items": null,
            "align_self": null,
            "border": null,
            "bottom": null,
            "display": null,
            "flex": null,
            "flex_flow": null,
            "grid_area": null,
            "grid_auto_columns": null,
            "grid_auto_flow": null,
            "grid_auto_rows": null,
            "grid_column": null,
            "grid_gap": null,
            "grid_row": null,
            "grid_template_areas": null,
            "grid_template_columns": null,
            "grid_template_rows": null,
            "height": null,
            "justify_content": null,
            "justify_items": null,
            "left": null,
            "margin": null,
            "max_height": null,
            "max_width": null,
            "min_height": null,
            "min_width": null,
            "object_fit": null,
            "object_position": null,
            "order": null,
            "overflow": null,
            "overflow_x": null,
            "overflow_y": null,
            "padding": null,
            "right": null,
            "top": null,
            "visibility": null,
            "width": null
          }
        },
        "98e4d5b3c5d446a0a2212059a8bde828": {
          "model_module": "@jupyter-widgets/base",
          "model_name": "LayoutModel",
          "model_module_version": "1.2.0",
          "state": {
            "_model_module": "@jupyter-widgets/base",
            "_model_module_version": "1.2.0",
            "_model_name": "LayoutModel",
            "_view_count": null,
            "_view_module": "@jupyter-widgets/base",
            "_view_module_version": "1.2.0",
            "_view_name": "LayoutView",
            "align_content": null,
            "align_items": null,
            "align_self": null,
            "border": null,
            "bottom": null,
            "display": null,
            "flex": null,
            "flex_flow": null,
            "grid_area": null,
            "grid_auto_columns": null,
            "grid_auto_flow": null,
            "grid_auto_rows": null,
            "grid_column": null,
            "grid_gap": null,
            "grid_row": null,
            "grid_template_areas": null,
            "grid_template_columns": null,
            "grid_template_rows": null,
            "height": null,
            "justify_content": null,
            "justify_items": null,
            "left": null,
            "margin": null,
            "max_height": null,
            "max_width": null,
            "min_height": null,
            "min_width": null,
            "object_fit": null,
            "object_position": null,
            "order": null,
            "overflow": null,
            "overflow_x": null,
            "overflow_y": null,
            "padding": null,
            "right": null,
            "top": null,
            "visibility": null,
            "width": null
          }
        },
        "6bad7f2d102c4558ad3a387379993434": {
          "model_module": "@jupyter-widgets/controls",
          "model_name": "DescriptionStyleModel",
          "model_module_version": "1.5.0",
          "state": {
            "_model_module": "@jupyter-widgets/controls",
            "_model_module_version": "1.5.0",
            "_model_name": "DescriptionStyleModel",
            "_view_count": null,
            "_view_module": "@jupyter-widgets/base",
            "_view_module_version": "1.2.0",
            "_view_name": "StyleView",
            "description_width": ""
          }
        },
        "86e27b1f820f4d3787f3ad7212817ca8": {
          "model_module": "@jupyter-widgets/base",
          "model_name": "LayoutModel",
          "model_module_version": "1.2.0",
          "state": {
            "_model_module": "@jupyter-widgets/base",
            "_model_module_version": "1.2.0",
            "_model_name": "LayoutModel",
            "_view_count": null,
            "_view_module": "@jupyter-widgets/base",
            "_view_module_version": "1.2.0",
            "_view_name": "LayoutView",
            "align_content": null,
            "align_items": null,
            "align_self": null,
            "border": null,
            "bottom": null,
            "display": null,
            "flex": null,
            "flex_flow": null,
            "grid_area": null,
            "grid_auto_columns": null,
            "grid_auto_flow": null,
            "grid_auto_rows": null,
            "grid_column": null,
            "grid_gap": null,
            "grid_row": null,
            "grid_template_areas": null,
            "grid_template_columns": null,
            "grid_template_rows": null,
            "height": null,
            "justify_content": null,
            "justify_items": null,
            "left": null,
            "margin": null,
            "max_height": null,
            "max_width": null,
            "min_height": null,
            "min_width": null,
            "object_fit": null,
            "object_position": null,
            "order": null,
            "overflow": null,
            "overflow_x": null,
            "overflow_y": null,
            "padding": null,
            "right": null,
            "top": null,
            "visibility": null,
            "width": null
          }
        },
        "078d280355624c9f8f1334ae6dbc7f8b": {
          "model_module": "@jupyter-widgets/controls",
          "model_name": "ProgressStyleModel",
          "model_module_version": "1.5.0",
          "state": {
            "_model_module": "@jupyter-widgets/controls",
            "_model_module_version": "1.5.0",
            "_model_name": "ProgressStyleModel",
            "_view_count": null,
            "_view_module": "@jupyter-widgets/base",
            "_view_module_version": "1.2.0",
            "_view_name": "StyleView",
            "bar_color": null,
            "description_width": ""
          }
        },
        "b76797985e4d42ae98de4e620e0996ff": {
          "model_module": "@jupyter-widgets/base",
          "model_name": "LayoutModel",
          "model_module_version": "1.2.0",
          "state": {
            "_model_module": "@jupyter-widgets/base",
            "_model_module_version": "1.2.0",
            "_model_name": "LayoutModel",
            "_view_count": null,
            "_view_module": "@jupyter-widgets/base",
            "_view_module_version": "1.2.0",
            "_view_name": "LayoutView",
            "align_content": null,
            "align_items": null,
            "align_self": null,
            "border": null,
            "bottom": null,
            "display": null,
            "flex": null,
            "flex_flow": null,
            "grid_area": null,
            "grid_auto_columns": null,
            "grid_auto_flow": null,
            "grid_auto_rows": null,
            "grid_column": null,
            "grid_gap": null,
            "grid_row": null,
            "grid_template_areas": null,
            "grid_template_columns": null,
            "grid_template_rows": null,
            "height": null,
            "justify_content": null,
            "justify_items": null,
            "left": null,
            "margin": null,
            "max_height": null,
            "max_width": null,
            "min_height": null,
            "min_width": null,
            "object_fit": null,
            "object_position": null,
            "order": null,
            "overflow": null,
            "overflow_x": null,
            "overflow_y": null,
            "padding": null,
            "right": null,
            "top": null,
            "visibility": null,
            "width": null
          }
        },
        "25b111be1a4443618704b0157c997170": {
          "model_module": "@jupyter-widgets/controls",
          "model_name": "DescriptionStyleModel",
          "model_module_version": "1.5.0",
          "state": {
            "_model_module": "@jupyter-widgets/controls",
            "_model_module_version": "1.5.0",
            "_model_name": "DescriptionStyleModel",
            "_view_count": null,
            "_view_module": "@jupyter-widgets/base",
            "_view_module_version": "1.2.0",
            "_view_name": "StyleView",
            "description_width": ""
          }
        }
      }
    }
  },
  "cells": [
    {
      "cell_type": "code",
      "source": [
        "from google.colab import drive\n",
        "drive.mount('/content/gdrive')\n",
        "%cd gdrive/My\\ Drive/EOE"
      ],
      "metadata": {
        "colab": {
          "base_uri": "https://localhost:8080/"
        },
        "id": "FTOJ0Dd788qy",
        "outputId": "d11d5189-74bb-459e-97c3-49d59a9fa3aa"
      },
      "execution_count": null,
      "outputs": [
        {
          "output_type": "stream",
          "name": "stdout",
          "text": [
            "Mounted at /content/gdrive\n",
            "/content/gdrive/My Drive/EOE\n"
          ]
        }
      ]
    },
    {
      "cell_type": "code",
      "execution_count": null,
      "metadata": {
        "id": "lQzr9aj6k4py"
      },
      "outputs": [],
      "source": [
        "import pandas as pd\n",
        "from PIL import Image\n",
        "import torch\n",
        "from torchvision import models\n",
        "from torch import nn\n",
        "import os\n",
        "from torch.utils.data import TensorDataset, DataLoader\n",
        "import numpy as np \n",
        "import torchvision\n",
        "from tqdm import tqdm"
      ]
    },
    {
      "cell_type": "code",
      "source": [
        "labels_df = pd.read_excel('./labels.xlsx', header=None)  # Read excel label file\n",
        "labels_df=labels_df.dropna()\n",
        "labels_df.head()"
      ],
      "metadata": {
        "id": "6KJFtWJlh5GA",
        "colab": {
          "base_uri": "https://localhost:8080/",
          "height": 206
        },
        "outputId": "eda8eefe-3800-4ef7-ab32-dcb543caf407"
      },
      "execution_count": null,
      "outputs": [
        {
          "output_type": "execute_result",
          "data": {
            "text/plain": [
              "   0  1\n",
              "0  1  0\n",
              "1  2  0\n",
              "2  3  0\n",
              "3  4  1\n",
              "4  5  0"
            ],
            "text/html": [
              "\n",
              "  <div id=\"df-ba412465-d45a-4aae-981f-32d5cd35d6a1\">\n",
              "    <div class=\"colab-df-container\">\n",
              "      <div>\n",
              "<style scoped>\n",
              "    .dataframe tbody tr th:only-of-type {\n",
              "        vertical-align: middle;\n",
              "    }\n",
              "\n",
              "    .dataframe tbody tr th {\n",
              "        vertical-align: top;\n",
              "    }\n",
              "\n",
              "    .dataframe thead th {\n",
              "        text-align: right;\n",
              "    }\n",
              "</style>\n",
              "<table border=\"1\" class=\"dataframe\">\n",
              "  <thead>\n",
              "    <tr style=\"text-align: right;\">\n",
              "      <th></th>\n",
              "      <th>0</th>\n",
              "      <th>1</th>\n",
              "    </tr>\n",
              "  </thead>\n",
              "  <tbody>\n",
              "    <tr>\n",
              "      <th>0</th>\n",
              "      <td>1</td>\n",
              "      <td>0</td>\n",
              "    </tr>\n",
              "    <tr>\n",
              "      <th>1</th>\n",
              "      <td>2</td>\n",
              "      <td>0</td>\n",
              "    </tr>\n",
              "    <tr>\n",
              "      <th>2</th>\n",
              "      <td>3</td>\n",
              "      <td>0</td>\n",
              "    </tr>\n",
              "    <tr>\n",
              "      <th>3</th>\n",
              "      <td>4</td>\n",
              "      <td>1</td>\n",
              "    </tr>\n",
              "    <tr>\n",
              "      <th>4</th>\n",
              "      <td>5</td>\n",
              "      <td>0</td>\n",
              "    </tr>\n",
              "  </tbody>\n",
              "</table>\n",
              "</div>\n",
              "      <button class=\"colab-df-convert\" onclick=\"convertToInteractive('df-ba412465-d45a-4aae-981f-32d5cd35d6a1')\"\n",
              "              title=\"Convert this dataframe to an interactive table.\"\n",
              "              style=\"display:none;\">\n",
              "        \n",
              "  <svg xmlns=\"http://www.w3.org/2000/svg\" height=\"24px\"viewBox=\"0 0 24 24\"\n",
              "       width=\"24px\">\n",
              "    <path d=\"M0 0h24v24H0V0z\" fill=\"none\"/>\n",
              "    <path d=\"M18.56 5.44l.94 2.06.94-2.06 2.06-.94-2.06-.94-.94-2.06-.94 2.06-2.06.94zm-11 1L8.5 8.5l.94-2.06 2.06-.94-2.06-.94L8.5 2.5l-.94 2.06-2.06.94zm10 10l.94 2.06.94-2.06 2.06-.94-2.06-.94-.94-2.06-.94 2.06-2.06.94z\"/><path d=\"M17.41 7.96l-1.37-1.37c-.4-.4-.92-.59-1.43-.59-.52 0-1.04.2-1.43.59L10.3 9.45l-7.72 7.72c-.78.78-.78 2.05 0 2.83L4 21.41c.39.39.9.59 1.41.59.51 0 1.02-.2 1.41-.59l7.78-7.78 2.81-2.81c.8-.78.8-2.07 0-2.86zM5.41 20L4 18.59l7.72-7.72 1.47 1.35L5.41 20z\"/>\n",
              "  </svg>\n",
              "      </button>\n",
              "      \n",
              "  <style>\n",
              "    .colab-df-container {\n",
              "      display:flex;\n",
              "      flex-wrap:wrap;\n",
              "      gap: 12px;\n",
              "    }\n",
              "\n",
              "    .colab-df-convert {\n",
              "      background-color: #E8F0FE;\n",
              "      border: none;\n",
              "      border-radius: 50%;\n",
              "      cursor: pointer;\n",
              "      display: none;\n",
              "      fill: #1967D2;\n",
              "      height: 32px;\n",
              "      padding: 0 0 0 0;\n",
              "      width: 32px;\n",
              "    }\n",
              "\n",
              "    .colab-df-convert:hover {\n",
              "      background-color: #E2EBFA;\n",
              "      box-shadow: 0px 1px 2px rgba(60, 64, 67, 0.3), 0px 1px 3px 1px rgba(60, 64, 67, 0.15);\n",
              "      fill: #174EA6;\n",
              "    }\n",
              "\n",
              "    [theme=dark] .colab-df-convert {\n",
              "      background-color: #3B4455;\n",
              "      fill: #D2E3FC;\n",
              "    }\n",
              "\n",
              "    [theme=dark] .colab-df-convert:hover {\n",
              "      background-color: #434B5C;\n",
              "      box-shadow: 0px 1px 3px 1px rgba(0, 0, 0, 0.15);\n",
              "      filter: drop-shadow(0px 1px 2px rgba(0, 0, 0, 0.3));\n",
              "      fill: #FFFFFF;\n",
              "    }\n",
              "  </style>\n",
              "\n",
              "      <script>\n",
              "        const buttonEl =\n",
              "          document.querySelector('#df-ba412465-d45a-4aae-981f-32d5cd35d6a1 button.colab-df-convert');\n",
              "        buttonEl.style.display =\n",
              "          google.colab.kernel.accessAllowed ? 'block' : 'none';\n",
              "\n",
              "        async function convertToInteractive(key) {\n",
              "          const element = document.querySelector('#df-ba412465-d45a-4aae-981f-32d5cd35d6a1');\n",
              "          const dataTable =\n",
              "            await google.colab.kernel.invokeFunction('convertToInteractive',\n",
              "                                                     [key], {});\n",
              "          if (!dataTable) return;\n",
              "\n",
              "          const docLinkHtml = 'Like what you see? Visit the ' +\n",
              "            '<a target=\"_blank\" href=https://colab.research.google.com/notebooks/data_table.ipynb>data table notebook</a>'\n",
              "            + ' to learn more about interactive tables.';\n",
              "          element.innerHTML = '';\n",
              "          dataTable['output_type'] = 'display_data';\n",
              "          await google.colab.output.renderOutput(dataTable, element);\n",
              "          const docLink = document.createElement('div');\n",
              "          docLink.innerHTML = docLinkHtml;\n",
              "          element.appendChild(docLink);\n",
              "        }\n",
              "      </script>\n",
              "    </div>\n",
              "  </div>\n",
              "  "
            ]
          },
          "metadata": {},
          "execution_count": 3
        }
      ]
    },
    {
      "cell_type": "code",
      "source": [
        "idx2y = {}\n",
        "for i in range(len(labels_df)):\n",
        "    idx2y[int(labels_df.iloc[i, 0])] = int(labels_df.iloc[i, 1])  # Match the number to the category one by one"
      ],
      "metadata": {
        "id": "ElY785pf8hEZ"
      },
      "execution_count": null,
      "outputs": []
    },
    {
      "cell_type": "code",
      "source": [
        "normalize = torchvision.transforms.Normalize(\n",
        "   mean=[0.5,0.5,0.5], std=[0.5, 0.5, 0.5])  # Normalize images\n",
        "\n",
        "train_augs = torchvision.transforms.Compose([\n",
        "    torchvision.transforms.Resize((256, 256)),\n",
        "    torchvision.transforms.ToTensor(),\n",
        "    normalize])  \n",
        "\n",
        "test_augs = torchvision.transforms.Compose([\n",
        "    torchvision.transforms.Resize((256, 256)),\n",
        "    torchvision.transforms.ToTensor(),\n",
        "    normalize\n",
        "])  "
      ],
      "metadata": {
        "id": "FRv_Rav-iReJ"
      },
      "execution_count": null,
      "outputs": []
    },
    {
      "cell_type": "code",
      "source": [
        "def load_data(train_ratio=0.7, test_ratio=0.15, expand_ratio=2):  # expand_ratio is the multiple of image augmentation\n",
        "    # The function that reads the data set, and finally returns three DataLoaders, which are the training set, the test set and the validation set\n",
        "    labels = []\n",
        "    temps = []\n",
        "    for root, dirs, files in os.walk('./EOEHSS_Image'):\n",
        "        for file in files:\n",
        "            path = os.path.join(root, file)\n",
        "            idx = int(file.split('_')[0])\n",
        "            if idx in idx2y:\n",
        "                for i in range(expand_ratio):\n",
        "                    labels.append(idx2y[idx])\n",
        "                    temps.append(Image.open(path))  # Read image\n",
        "    np.random.seed(7)\n",
        "    np.random.shuffle(labels)\n",
        "    np.random.seed(7)\n",
        "    np.random.shuffle(temps)  # Shuffle data\n",
        "\n",
        "    train_size = int(train_ratio * len(labels))\n",
        "    test_size = int(test_ratio * len(labels))\n",
        "    valid_size = len(labels) - train_size - test_size\n",
        "    train_images = temps[:train_size]\n",
        "    train_labels = labels[:train_size]\n",
        "    test_images = temps[train_size: train_size + test_size]\n",
        "    test_labels = labels[train_size: train_size + test_size]\n",
        "    valid_images = temps[train_size + test_size:]\n",
        "    valid_labels = labels[train_size + test_size:]  # Divide training set, test set and validation set\n",
        "\n",
        "    for i in range(len(train_images)):\n",
        "        train_images[i] = np.array(train_augs(train_images[i]))\n",
        "    for i in range(len(test_images)):\n",
        "        test_images[i] = np.array(test_augs(test_images[i]))\n",
        "    for i in range(len(valid_images)):\n",
        "        valid_images[i] = np.array(test_augs(valid_images[i]))  # numpy array\n",
        "\n",
        "    train_labels = torch.tensor(train_labels, dtype=torch.int64)\n",
        "    train_images = torch.tensor(train_images, dtype=torch.float32)\n",
        "    test_labels = torch.tensor(test_labels, dtype=torch.int64)\n",
        "    test_images = torch.tensor(test_images, dtype=torch.float32)\n",
        "    valid_labels = torch.tensor(valid_labels, dtype=torch.int64)\n",
        "    valid_images = torch.tensor(valid_images, dtype=torch.float32)  # torch tensor\n",
        "\n",
        "    train_dataset = TensorDataset(train_images, train_labels)\n",
        "    test_dataset = TensorDataset(test_images, test_labels)\n",
        "    valid_dataset = TensorDataset(valid_images, valid_labels)  # TensorDataset\n",
        "\n",
        "    train_loader = DataLoader(train_dataset, batch_size=8)\n",
        "    test_loader = DataLoader(test_dataset, batch_size=8)\n",
        "    valid_loader = DataLoader(valid_dataset, batch_size=8)  # DataLoader\n",
        "\n",
        "    return train_loader, test_loader, valid_loader"
      ],
      "metadata": {
        "id": "FDuvrw4Zijnt"
      },
      "execution_count": null,
      "outputs": []
    },
    {
      "cell_type": "code",
      "source": [
        "train_loader, test_loader, valid_loader = load_data()  # Read data"
      ],
      "metadata": {
        "colab": {
          "base_uri": "https://localhost:8080/"
        },
        "id": "qirO-tJViyTT",
        "outputId": "cbf6ad26-8487-4728-a18d-3d262566a11f"
      },
      "execution_count": null,
      "outputs": [
        {
          "output_type": "stream",
          "name": "stderr",
          "text": [
            "/usr/local/lib/python3.7/dist-packages/ipykernel_launcher.py:36: UserWarning: Creating a tensor from a list of numpy.ndarrays is extremely slow. Please consider converting the list to a single numpy.ndarray with numpy.array() before converting to a tensor. (Triggered internally at  ../torch/csrc/utils/tensor_new.cpp:201.)\n"
          ]
        }
      ]
    },
    {
      "cell_type": "code",
      "source": [
        "for X, y in train_loader:\n",
        "    print(X.shape, y.shape)\n",
        "    break"
      ],
      "metadata": {
        "colab": {
          "base_uri": "https://localhost:8080/"
        },
        "id": "jMfqp9AhjI5T",
        "outputId": "25dbaecd-08e3-480d-dae1-5e2f7468e56f"
      },
      "execution_count": null,
      "outputs": [
        {
          "output_type": "stream",
          "name": "stdout",
          "text": [
            "torch.Size([8, 3, 256, 256]) torch.Size([8])\n"
          ]
        }
      ]
    },
    {
      "cell_type": "code",
      "source": [
        "num_classes = 2  \n",
        "densenet = models.densenet121(pretrained=True)  \n",
        "densenet.grad_ = False  \n",
        "densenet.classifier = nn.Linear(1024, num_classes)  "
      ],
      "metadata": {
        "colab": {
          "base_uri": "https://localhost:8080/",
          "height": 156,
          "referenced_widgets": [
            "5f7f1f0dc2634caa9e1055c1cb337626",
            "95e9fde91902417392cc49741271f391",
            "56df521696f94671a18170748331cafb",
            "ff7acd414ed548e88d02854d33ef89d8",
            "c1da73a3a74b40cb8ae8e6c655a7f461",
            "98e4d5b3c5d446a0a2212059a8bde828",
            "6bad7f2d102c4558ad3a387379993434",
            "86e27b1f820f4d3787f3ad7212817ca8",
            "078d280355624c9f8f1334ae6dbc7f8b",
            "b76797985e4d42ae98de4e620e0996ff",
            "25b111be1a4443618704b0157c997170"
          ]
        },
        "id": "KRWEmzOd8bpg",
        "outputId": "077a5be9-8dab-4f24-df25-de4945524c46"
      },
      "execution_count": null,
      "outputs": [
        {
          "output_type": "stream",
          "name": "stderr",
          "text": [
            "/usr/local/lib/python3.7/dist-packages/torchvision/models/_utils.py:209: UserWarning: The parameter 'pretrained' is deprecated since 0.13 and will be removed in 0.15, please use 'weights' instead.\n",
            "  f\"The parameter '{pretrained_param}' is deprecated since 0.13 and will be removed in 0.15, \"\n",
            "/usr/local/lib/python3.7/dist-packages/torchvision/models/_utils.py:223: UserWarning: Arguments other than a weight enum or `None` for 'weights' are deprecated since 0.13 and will be removed in 0.15. The current behavior is equivalent to passing `weights=DenseNet121_Weights.IMAGENET1K_V1`. You can also use `weights=DenseNet121_Weights.DEFAULT` to get the most up-to-date weights.\n",
            "  warnings.warn(msg)\n",
            "Downloading: \"https://download.pytorch.org/models/densenet121-a639ec97.pth\" to /root/.cache/torch/hub/checkpoints/densenet121-a639ec97.pth\n"
          ]
        },
        {
          "output_type": "display_data",
          "data": {
            "text/plain": [
              "  0%|          | 0.00/30.8M [00:00<?, ?B/s]"
            ],
            "application/vnd.jupyter.widget-view+json": {
              "version_major": 2,
              "version_minor": 0,
              "model_id": "5f7f1f0dc2634caa9e1055c1cb337626"
            }
          },
          "metadata": {}
        }
      ]
    },
    {
      "cell_type": "code",
      "source": [
        "def evaluate(net, valid_iter, device):\n",
        "    net.to(device)\n",
        "    net.eval()\n",
        "    num_valid_samples = 0\n",
        "    num_acc = 0\n",
        "    for X, y in valid_iter:\n",
        "        X, y = X.to(device), y.to(device)\n",
        "        y_hat = net(X)\n",
        "        y_pred = y_hat.argmax(dim=-1)\n",
        "        num_valid_samples += len(X)\n",
        "        num_acc += torch.sum(y_pred == y)\n",
        "    return float(num_acc) / num_valid_samples"
      ],
      "metadata": {
        "id": "a_7lkW2YjNuG"
      },
      "execution_count": null,
      "outputs": []
    },
    {
      "cell_type": "code",
      "source": [
        "def train(net, train_iter, test_iter, valid_iter, num_epochs, lr, device):\n",
        "    print(\"training on\", device)\n",
        "    net.to(device)\n",
        "    optimizer = torch.optim.SGD(net.parameters(), lr=lr)\n",
        "    loss = nn.CrossEntropyLoss()\n",
        "    train_loss_list = []\n",
        "    train_acc_list = []\n",
        "    valid_acc_list = []\n",
        "    test_acc_list = []\n",
        "    for epoch in tqdm(range(num_epochs)):\n",
        "        net.train()\n",
        "        num_train = 0\n",
        "        train_acc = 0\n",
        "        train_loss = 0\n",
        "        for i, (X, y) in enumerate(train_iter):\n",
        "            optimizer.zero_grad()\n",
        "            X, y = X.to(device), y.to(device)\n",
        "            y_hat = net(X)\n",
        "            l = loss(y_hat, y)\n",
        "            l.backward()\n",
        "            optimizer.step()\n",
        "            num_train += len(X)\n",
        "            train_acc += torch.sum(y_hat.argmax(dim=-1) == y)\n",
        "            train_loss += l.item() * len(X)\n",
        "        train_loss = float(train_loss) / num_train\n",
        "        train_acc = float(train_acc) / num_train\n",
        "        train_loss_list.append(train_loss)\n",
        "        train_acc_list.append(train_acc)\n",
        "        net.eval()\n",
        "        num_test = 0\n",
        "        test_acc = 0\n",
        "        for X, y in test_iter:\n",
        "            X, y = X.to(device), y.to(device)\n",
        "            y_hat = net(X)\n",
        "            num_test += len(X)\n",
        "            test_acc += torch.sum(y_hat.argmax(dim=-1) == y)\n",
        "        test_acc = float(test_acc) / num_test\n",
        "        test_acc_list.append(test_acc)\n",
        "        valid_acc = evaluate(net, valid_iter, device)\n",
        "        valid_acc_list.append(valid_acc)\n",
        "        if (epoch + 1) % 10 == 0:\n",
        "            print('train loss:', train_loss_list, 'train acc:', train_acc_list, 'test acc:', test_acc_list,\n",
        "                  'valid acc:', valid_acc_list)\n",
        "\n",
        "    return train_loss_list, train_acc_list, test_acc_list, valid_acc_list"
      ],
      "metadata": {
        "id": "XCsxeZEhjor8"
      },
      "execution_count": null,
      "outputs": []
    },
    {
      "cell_type": "code",
      "source": [
        "device = torch.device ( \"cuda\")\n",
        "num_epochs = 50\n",
        "lr = 1e-2\n",
        "\n",
        "train_loss_list, train_acc_list, test_acc_list, valid_acc_list = train(densenet, train_loader, test_loader, valid_loader, num_epochs, lr, device)"
      ],
      "metadata": {
        "colab": {
          "base_uri": "https://localhost:8080/"
        },
        "id": "i4xONzdCjqtM",
        "outputId": "179df1c1-417a-4446-8c36-ed49cacd5af1"
      },
      "execution_count": null,
      "outputs": [
        {
          "metadata": {
            "tags": null
          },
          "name": "stdout",
          "output_type": "stream",
          "text": [
            "training on cuda\n"
          ]
        },
        {
          "metadata": {
            "tags": null
          },
          "name": "stderr",
          "output_type": "stream",
          "text": [
            " 20%|██        | 10/50 [01:55<06:54, 10.37s/it]"
          ]
        },
        {
          "metadata": {
            "tags": null
          },
          "name": "stdout",
          "output_type": "stream",
          "text": [
            "train loss: [0.5771590328884282, 0.26542935553551505, 0.12610451302673711, 0.08974571452710833, 0.14525005225049212, 0.09398768366586042, 0.023960209283609514, 0.00791823618878078, 0.0032370307337403715, 0.0018658117859898966] train acc: [0.7215815485996705, 0.8912685337726524, 0.9522240527182867, 0.9686985172981878, 0.943986820428336, 0.9621087314662273, 0.9967051070840197, 1.0, 1.0, 1.0] test acc: [0.7615384615384615, 0.8153846153846154, 0.7461538461538462, 0.8615384615384616, 0.9153846153846154, 0.8769230769230769, 0.9461538461538461, 0.9384615384615385, 0.9307692307692308, 0.9307692307692308] valid acc: [0.8015267175572519, 0.8473282442748091, 0.7709923664122137, 0.8778625954198473, 0.9007633587786259, 0.916030534351145, 0.9236641221374046, 0.9236641221374046, 0.9312977099236641, 0.9312977099236641]\n"
          ]
        },
        {
          "metadata": {
            "tags": null
          },
          "name": "stderr",
          "output_type": "stream",
          "text": [
            " 40%|████      | 20/50 [03:40<05:13, 10.43s/it]"
          ]
        },
        {
          "metadata": {
            "tags": null
          },
          "name": "stdout",
          "output_type": "stream",
          "text": [
            "train loss: [0.5771590328884282, 0.26542935553551505, 0.12610451302673711, 0.08974571452710833, 0.14525005225049212, 0.09398768366586042, 0.023960209283609514, 0.00791823618878078, 0.0032370307337403715, 0.0018658117859898966, 0.0012682193038291627, 0.001037120624618755, 0.0008868474012342032, 0.0007781617981504459, 0.0006953311801766839, 0.000629732942805492, 0.00057620509061387, 0.000531695401384242, 0.0004940521157280691, 0.0004617182188955039] train acc: [0.7215815485996705, 0.8912685337726524, 0.9522240527182867, 0.9686985172981878, 0.943986820428336, 0.9621087314662273, 0.9967051070840197, 1.0, 1.0, 1.0, 1.0, 1.0, 1.0, 1.0, 1.0, 1.0, 1.0, 1.0, 1.0, 1.0] test acc: [0.7615384615384615, 0.8153846153846154, 0.7461538461538462, 0.8615384615384616, 0.9153846153846154, 0.8769230769230769, 0.9461538461538461, 0.9384615384615385, 0.9307692307692308, 0.9307692307692308, 0.9307692307692308, 0.9307692307692308, 0.9307692307692308, 0.9307692307692308, 0.9307692307692308, 0.9307692307692308, 0.9307692307692308, 0.9307692307692308, 0.9307692307692308, 0.9307692307692308] valid acc: [0.8015267175572519, 0.8473282442748091, 0.7709923664122137, 0.8778625954198473, 0.9007633587786259, 0.916030534351145, 0.9236641221374046, 0.9236641221374046, 0.9312977099236641, 0.9312977099236641, 0.9312977099236641, 0.9312977099236641, 0.9312977099236641, 0.9312977099236641, 0.9312977099236641, 0.9312977099236641, 0.9312977099236641, 0.9312977099236641, 0.9312977099236641, 0.9312977099236641]\n"
          ]
        },
        {
          "metadata": {
            "tags": null
          },
          "name": "stderr",
          "output_type": "stream",
          "text": [
            " 60%|██████    | 30/50 [05:24<03:28, 10.44s/it]"
          ]
        },
        {
          "metadata": {
            "tags": null
          },
          "name": "stdout",
          "output_type": "stream",
          "text": [
            "train loss: [0.5771590328884282, 0.26542935553551505, 0.12610451302673711, 0.08974571452710833, 0.14525005225049212, 0.09398768366586042, 0.023960209283609514, 0.00791823618878078, 0.0032370307337403715, 0.0018658117859898966, 0.0012682193038291627, 0.001037120624618755, 0.0008868474012342032, 0.0007781617981504459, 0.0006953311801766839, 0.000629732942805492, 0.00057620509061387, 0.000531695401384242, 0.0004940521157280691, 0.0004617182188955039, 0.0004336175170195438, 0.0004089249797488365, 0.00038707601406099047, 0.00036762332289803413, 0.0003501547017089464, 0.00033435618757658454, 0.00032001770512105765, 0.0003069268654956355, 0.00029493067194930164, 0.0002838978647682862] train acc: [0.7215815485996705, 0.8912685337726524, 0.9522240527182867, 0.9686985172981878, 0.943986820428336, 0.9621087314662273, 0.9967051070840197, 1.0, 1.0, 1.0, 1.0, 1.0, 1.0, 1.0, 1.0, 1.0, 1.0, 1.0, 1.0, 1.0, 1.0, 1.0, 1.0, 1.0, 1.0, 1.0, 1.0, 1.0, 1.0, 1.0] test acc: [0.7615384615384615, 0.8153846153846154, 0.7461538461538462, 0.8615384615384616, 0.9153846153846154, 0.8769230769230769, 0.9461538461538461, 0.9384615384615385, 0.9307692307692308, 0.9307692307692308, 0.9307692307692308, 0.9307692307692308, 0.9307692307692308, 0.9307692307692308, 0.9307692307692308, 0.9307692307692308, 0.9307692307692308, 0.9307692307692308, 0.9307692307692308, 0.9307692307692308, 0.9307692307692308, 0.9307692307692308, 0.9230769230769231, 0.9230769230769231, 0.9230769230769231, 0.9230769230769231, 0.9230769230769231, 0.9230769230769231, 0.9230769230769231, 0.9230769230769231] valid acc: [0.8015267175572519, 0.8473282442748091, 0.7709923664122137, 0.8778625954198473, 0.9007633587786259, 0.916030534351145, 0.9236641221374046, 0.9236641221374046, 0.9312977099236641, 0.9312977099236641, 0.9312977099236641, 0.9312977099236641, 0.9312977099236641, 0.9312977099236641, 0.9312977099236641, 0.9312977099236641, 0.9312977099236641, 0.9312977099236641, 0.9312977099236641, 0.9312977099236641, 0.9312977099236641, 0.9312977099236641, 0.9236641221374046, 0.9236641221374046, 0.9236641221374046, 0.9236641221374046, 0.9236641221374046, 0.9236641221374046, 0.9236641221374046, 0.9236641221374046]\n"
          ]
        },
        {
          "metadata": {
            "tags": null
          },
          "name": "stderr",
          "output_type": "stream",
          "text": [
            " 80%|████████  | 40/50 [07:09<01:44, 10.44s/it]"
          ]
        },
        {
          "metadata": {
            "tags": null
          },
          "name": "stdout",
          "output_type": "stream",
          "text": [
            "train loss: [0.5771590328884282, 0.26542935553551505, 0.12610451302673711, 0.08974571452710833, 0.14525005225049212, 0.09398768366586042, 0.023960209283609514, 0.00791823618878078, 0.0032370307337403715, 0.0018658117859898966, 0.0012682193038291627, 0.001037120624618755, 0.0008868474012342032, 0.0007781617981504459, 0.0006953311801766839, 0.000629732942805492, 0.00057620509061387, 0.000531695401384242, 0.0004940521157280691, 0.0004617182188955039, 0.0004336175170195438, 0.0004089249797488365, 0.00038707601406099047, 0.00036762332289803413, 0.0003501547017089464, 0.00033435618757658454, 0.00032001770512105765, 0.0003069268654956355, 0.00029493067194930164, 0.0002838978647682862, 0.00027369773613279024, 0.00026424251255810206, 0.00025544494999031023, 0.0002472458828832874, 0.00023958258598558052, 0.00023241017210466828, 0.00022566982215946262, 0.00021933252070980574, 0.00021335750331015124, 0.00020771082796584479] train acc: [0.7215815485996705, 0.8912685337726524, 0.9522240527182867, 0.9686985172981878, 0.943986820428336, 0.9621087314662273, 0.9967051070840197, 1.0, 1.0, 1.0, 1.0, 1.0, 1.0, 1.0, 1.0, 1.0, 1.0, 1.0, 1.0, 1.0, 1.0, 1.0, 1.0, 1.0, 1.0, 1.0, 1.0, 1.0, 1.0, 1.0, 1.0, 1.0, 1.0, 1.0, 1.0, 1.0, 1.0, 1.0, 1.0, 1.0] test acc: [0.7615384615384615, 0.8153846153846154, 0.7461538461538462, 0.8615384615384616, 0.9153846153846154, 0.8769230769230769, 0.9461538461538461, 0.9384615384615385, 0.9307692307692308, 0.9307692307692308, 0.9307692307692308, 0.9307692307692308, 0.9307692307692308, 0.9307692307692308, 0.9307692307692308, 0.9307692307692308, 0.9307692307692308, 0.9307692307692308, 0.9307692307692308, 0.9307692307692308, 0.9307692307692308, 0.9307692307692308, 0.9230769230769231, 0.9230769230769231, 0.9230769230769231, 0.9230769230769231, 0.9230769230769231, 0.9230769230769231, 0.9230769230769231, 0.9230769230769231, 0.9230769230769231, 0.9230769230769231, 0.9230769230769231, 0.9230769230769231, 0.9230769230769231, 0.9230769230769231, 0.9230769230769231, 0.9230769230769231, 0.9230769230769231, 0.9230769230769231] valid acc: [0.8015267175572519, 0.8473282442748091, 0.7709923664122137, 0.8778625954198473, 0.9007633587786259, 0.916030534351145, 0.9236641221374046, 0.9236641221374046, 0.9312977099236641, 0.9312977099236641, 0.9312977099236641, 0.9312977099236641, 0.9312977099236641, 0.9312977099236641, 0.9312977099236641, 0.9312977099236641, 0.9312977099236641, 0.9312977099236641, 0.9312977099236641, 0.9312977099236641, 0.9312977099236641, 0.9312977099236641, 0.9236641221374046, 0.9236641221374046, 0.9236641221374046, 0.9236641221374046, 0.9236641221374046, 0.9236641221374046, 0.9236641221374046, 0.9236641221374046, 0.9236641221374046, 0.9236641221374046, 0.9236641221374046, 0.9236641221374046, 0.9236641221374046, 0.9236641221374046, 0.9236641221374046, 0.9236641221374046, 0.9236641221374046, 0.9236641221374046]\n"
          ]
        },
        {
          "output_type": "stream",
          "name": "stderr",
          "text": [
            "100%|██████████| 50/50 [08:53<00:00, 10.67s/it]"
          ]
        },
        {
          "output_type": "stream",
          "name": "stdout",
          "text": [
            "train loss: [0.5771590328884282, 0.26542935553551505, 0.12610451302673711, 0.08974571452710833, 0.14525005225049212, 0.09398768366586042, 0.023960209283609514, 0.00791823618878078, 0.0032370307337403715, 0.0018658117859898966, 0.0012682193038291627, 0.001037120624618755, 0.0008868474012342032, 0.0007781617981504459, 0.0006953311801766839, 0.000629732942805492, 0.00057620509061387, 0.000531695401384242, 0.0004940521157280691, 0.0004617182188955039, 0.0004336175170195438, 0.0004089249797488365, 0.00038707601406099047, 0.00036762332289803413, 0.0003501547017089464, 0.00033435618757658454, 0.00032001770512105765, 0.0003069268654956355, 0.00029493067194930164, 0.0002838978647682862, 0.00027369773613279024, 0.00026424251255810206, 0.00025544494999031023, 0.0002472458828832874, 0.00023958258598558052, 0.00023241017210466828, 0.00022566982215946262, 0.00021933252070980574, 0.00021335750331015124, 0.00020771082796584479, 0.00020236898228200844, 0.0001972980295381581, 0.00019248719365749111, 0.00018790980235787027, 0.00018355428765781448, 0.0001793996629026516, 0.00017543651707872405, 0.00017164680559538715, 0.00016802150458705426, 0.00016455041287346823] train acc: [0.7215815485996705, 0.8912685337726524, 0.9522240527182867, 0.9686985172981878, 0.943986820428336, 0.9621087314662273, 0.9967051070840197, 1.0, 1.0, 1.0, 1.0, 1.0, 1.0, 1.0, 1.0, 1.0, 1.0, 1.0, 1.0, 1.0, 1.0, 1.0, 1.0, 1.0, 1.0, 1.0, 1.0, 1.0, 1.0, 1.0, 1.0, 1.0, 1.0, 1.0, 1.0, 1.0, 1.0, 1.0, 1.0, 1.0, 1.0, 1.0, 1.0, 1.0, 1.0, 1.0, 1.0, 1.0, 1.0, 1.0] test acc: [0.7615384615384615, 0.8153846153846154, 0.7461538461538462, 0.8615384615384616, 0.9153846153846154, 0.8769230769230769, 0.9461538461538461, 0.9384615384615385, 0.9307692307692308, 0.9307692307692308, 0.9307692307692308, 0.9307692307692308, 0.9307692307692308, 0.9307692307692308, 0.9307692307692308, 0.9307692307692308, 0.9307692307692308, 0.9307692307692308, 0.9307692307692308, 0.9307692307692308, 0.9307692307692308, 0.9307692307692308, 0.9230769230769231, 0.9230769230769231, 0.9230769230769231, 0.9230769230769231, 0.9230769230769231, 0.9230769230769231, 0.9230769230769231, 0.9230769230769231, 0.9230769230769231, 0.9230769230769231, 0.9230769230769231, 0.9230769230769231, 0.9230769230769231, 0.9230769230769231, 0.9230769230769231, 0.9230769230769231, 0.9230769230769231, 0.9230769230769231, 0.9230769230769231, 0.9230769230769231, 0.9230769230769231, 0.9230769230769231, 0.9230769230769231, 0.9230769230769231, 0.9230769230769231, 0.9230769230769231, 0.9230769230769231, 0.9230769230769231] valid acc: [0.8015267175572519, 0.8473282442748091, 0.7709923664122137, 0.8778625954198473, 0.9007633587786259, 0.916030534351145, 0.9236641221374046, 0.9236641221374046, 0.9312977099236641, 0.9312977099236641, 0.9312977099236641, 0.9312977099236641, 0.9312977099236641, 0.9312977099236641, 0.9312977099236641, 0.9312977099236641, 0.9312977099236641, 0.9312977099236641, 0.9312977099236641, 0.9312977099236641, 0.9312977099236641, 0.9312977099236641, 0.9236641221374046, 0.9236641221374046, 0.9236641221374046, 0.9236641221374046, 0.9236641221374046, 0.9236641221374046, 0.9236641221374046, 0.9236641221374046, 0.9236641221374046, 0.9236641221374046, 0.9236641221374046, 0.9236641221374046, 0.9236641221374046, 0.9236641221374046, 0.9236641221374046, 0.9236641221374046, 0.9236641221374046, 0.9236641221374046, 0.9236641221374046, 0.9236641221374046, 0.9236641221374046, 0.9236641221374046, 0.9236641221374046, 0.9236641221374046, 0.9236641221374046, 0.9236641221374046, 0.9236641221374046, 0.9236641221374046]\n"
          ]
        },
        {
          "output_type": "stream",
          "name": "stderr",
          "text": [
            "\n"
          ]
        }
      ]
    },
    {
      "cell_type": "code",
      "source": [
        "from matplotlib import pyplot as plt\n",
        "\n",
        "\n",
        "plt.plot(train_loss_list, label='train loss')\n",
        "plt.plot(train_acc_list, label='train acc')\n",
        "plt.plot(test_acc_list, label='test acc')\n",
        "plt.plot(valid_acc_list, label='valid acc')\n",
        "plt.legend()\n",
        "plt.show()"
      ],
      "metadata": {
        "colab": {
          "base_uri": "https://localhost:8080/",
          "height": 265
        },
        "id": "7Dz-8nKq8VWi",
        "outputId": "2e6fc225-d625-441f-8b32-e5364dd70529"
      },
      "execution_count": null,
      "outputs": [
        {
          "output_type": "display_data",
          "data": {
            "text/plain": [
              "<Figure size 432x288 with 1 Axes>"
            ],
            "image/png": "[encoded data removed]"
          },
          "metadata": {
            "needs_background": "light"
          }
        }
      ]
    },
    {
      "cell_type": "code",
      "source": [
        "print(max(test_acc_list))"
      ],
      "metadata": {
        "colab": {
          "base_uri": "https://localhost:8080/"
        },
        "id": "zK6eAaf_AZiF",
        "outputId": "b009f745-f9f9-4865-f4c6-97d5d334c1b5"
      },
      "execution_count": null,
      "outputs": [
        {
          "output_type": "stream",
          "name": "stdout",
          "text": [
            "0.9461538461538461\n"
          ]
        }
      ]
    }
  ]
}